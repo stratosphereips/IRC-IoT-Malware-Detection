{
 "cells": [
  {
   "cell_type": "markdown",
   "metadata": {},
   "source": [
    "# IRC Behavioral Analysis - Graphs"
   ]
  },
  {
   "cell_type": "markdown",
   "metadata": {},
   "source": [
    "### Imports"
   ]
  },
  {
   "cell_type": "code",
   "execution_count": 2,
   "metadata": {},
   "outputs": [],
   "source": [
    "from graphviz import Digraph"
   ]
  },
  {
   "cell_type": "markdown",
   "metadata": {},
   "source": [
    "### Graph structure"
   ]
  },
  {
   "cell_type": "code",
   "execution_count": 3,
   "metadata": {},
   "outputs": [],
   "source": [
    "\n",
    "\n",
    "# class Node(object):\n",
    "#     def __init__(self, name: str):\n",
    "#         self.name = name\n",
    "\n",
    "#     def __eq__(self, other):\n",
    "#         if isinstance(other, Node):\n",
    "#             return self.name == other.name\n",
    "#         return False\n",
    "\n",
    "#     def id(self):\n",
    "#         hash_node = lambda v: str(abs(hash(v)) % (10 ** 8))\n",
    "#         return hash_node(self.name)\n",
    "#         # return self.ip\n",
    "\n",
    "#     def label(self):\n",
    "#         return self.name\n",
    "\n",
    "\n",
    "# class Edge(object):\n",
    "#     def __init__(self, src_node: Node, dst_node: Node):\n",
    "#         self.src_node = src_node\n",
    "#         self.dst_node = dst_node\n",
    "\n",
    "#     def __eq__(self, other):\n",
    "#         if isinstance(other, Edge):\n",
    "#             return self.src_node == other.src_node and self.dst_node == other.dst_node\n",
    "#         return False\n",
    "\n",
    "\n",
    "# class MsgEdge(Edge):\n",
    "#     def __init__(self, src_node: Node, dst_node: Node, msg: str):\n",
    "#         super().__init__(src_node, dst_node)\n",
    "#         self.msg = msg\n",
    "\n",
    "#     def __eq__(self, other):\n",
    "#         if isinstance(other, MsgEdge):\n",
    "#             return self.src_node == other.src_node and \\\n",
    "#                    self.dst_node == other.dst_node and \\\n",
    "#                    self.msg == other.msg\n",
    "#         return False\n",
    "\n",
    "\n",
    "# class Graph(object):\n",
    "#     def __init__(self, nodes=None, edges=None):\n",
    "#         if nodes is None:\n",
    "#             nodes = []\n",
    "#         if edges is None:\n",
    "#             edges = []\n",
    "#         self.nodes = nodes\n",
    "#         self.edges = edges\n",
    "\n",
    "#     def add_node(self, node: Node) -> bool:\n",
    "#         \"\"\" :returns False if the node is already in nodes\n",
    "#             :returns True otherwise\n",
    "#         \"\"\"\n",
    "#         if node not in self.nodes:\n",
    "#             self.nodes.append(node)\n",
    "#             return True\n",
    "\n",
    "#         return False\n",
    "\n",
    "#     def add_edge(self, edge: Edge) -> bool:\n",
    "#         \"\"\" :returns False if the edge is already in edges\n",
    "#             :returns True otherwise\n",
    "#         \"\"\"\n",
    "#         if edge not in self.edges:\n",
    "#             self.edges.append(edge)\n",
    "#             return True\n",
    "#         return False"
   ]
  },
  {
   "cell_type": "code",
   "execution_count": 4,
   "metadata": {},
   "outputs": [],
   "source": [
    "# def build_graph(logs):\n",
    "#     print('building graph...')\n",
    "#     graph = Graph()\n",
    "#     for log in logs[:100]:\n",
    "#         v1_source = log['source']\n",
    "#         v2_target = log['target']\n",
    "\n",
    "#         v1, v2 = Node(v1_source), Node(v2_target)\n",
    "\n",
    "#         e = MsgEdge(v1, v2, log['msg'])\n",
    "\n",
    "#         graph.add_node(v1)\n",
    "#         graph.add_node(v2)\n",
    "#         graph.add_edge(e)\n",
    "#     return graph\n",
    "\n",
    "\n",
    "# def visualize_graph(graph, tree_path):\n",
    "#     print('visualizing graph...')\n",
    "#     dot = Digraph('IRC Tree', filename=tree_path)\n",
    "#     dot.graph_attr.update(sep='+100,s100')\n",
    "\n",
    "#     edges = set()\n",
    "#     for edge in graph.edges:\n",
    "#         v1, v2 = edge.src_node, edge.dst_node\n",
    "\n",
    "#         # comment this block of code to show non-duplicate edges between nodes\n",
    "#         dot.node(v1.id(), label=v1.label())\n",
    "#         dot.node(v2.id(), label=v2.label())\n",
    "#         dot.edge(v1.id(), v2.id())\n",
    "\n",
    "#         # uncomment this block of code to show duplicate edges between nodes\n",
    "#         if (v1.id(), v2.id()) not in edges:\n",
    "#             edges.add((v1.id(), v2.id()))\n",
    "#             dot.node(v1.id(), label=v1.label())\n",
    "#             dot.node(v2.id(), label=v2.label())\n",
    "#             dot.edge(v1.id(), v2.id())\n",
    "#     dot.view()"
   ]
  },
  {
   "cell_type": "markdown",
   "metadata": {},
   "source": [
    "### Data loading"
   ]
  },
  {
   "cell_type": "code",
   "execution_count": 5,
   "metadata": {},
   "outputs": [],
   "source": [
    "import pandas as pd\n",
    "\n",
    "pd.set_option('display.max_rows', 500)\n",
    "pd.set_option('display.max_columns', 500)\n",
    "pd.set_option('display.width', 1000)"
   ]
  },
  {
   "cell_type": "code",
   "execution_count": 6,
   "metadata": {},
   "outputs": [],
   "source": [
    "log_names_mal = ['03','04','34','39','42','51','56','62']\n",
    "log_names_benign = ['irc1']\n",
    "log_names = log_names_mal + log_names_benign\n",
    "\n",
    "project_dir = '/Users/preneond/Documents/Work/Stratosphere/IRC-Research/IRC-Behavioral-Analysis/'\n",
    "# project_dir = '/home/prenek/IRC-Behavioral-Analysis/'\n",
    "log_dir = os.path.join(project_dir, 'zeek/logs/')\n",
    "out_dir = os.path.join(project_dir, 'python/out/')\n",
    "\n",
    "# logs_fn_join = [os.path.join(log_dir,l,'irc_join.log') for l in log_names]\n",
    "# logs_fn_join_mal = [os.path.join(log_dir,l,'irc_join.log') for l in log_names_mal]\n",
    "# logs_fn_join_benign = [os.path.join(log_dir,l,'irc_join.log') for l in log_names_mal]\n",
    "\n",
    "logs_fn_privmsg = [os.path.join(log_dir,l,'irc_privmsg.log') for l in log_names]\n",
    "logs_fn_privmsg_mal = [os.path.join(log_dir,l,'irc_privmsg.log') for l in log_names_mal]\n",
    "logs_fn_privmsg_benign = [os.path.join(log_dir,l,'irc_privmsg.log') for l in log_names_benign]"
   ]
  },
  {
   "cell_type": "code",
   "execution_count": 7,
   "metadata": {},
   "outputs": [],
   "source": [
    "from zat.bro_log_reader import BroLogReader\n",
    "def load_logs(file):\n",
    "    logs_arr = []\n",
    "    if not os.path.isfile(file):\n",
    "        return logs_arr\n",
    "    \n",
    "    reader = BroLogReader(file)\n",
    "    for log in reader.readrows():\n",
    "        # log is in dictionary format\n",
    "        logs_arr.append(log)\n",
    "\n",
    "    return logs_arr"
   ]
  },
  {
   "cell_type": "code",
   "execution_count": 8,
   "metadata": {},
   "outputs": [
    {
     "output_type": "stream",
     "name": "stdout",
     "text": "Successfully monitoring /Users/preneond/Documents/Work/Stratosphere/IRC-Research/IRC-Behavioral-Analysis/zeek/logs/34/irc_privmsg.log...\nSuccessfully monitoring /Users/preneond/Documents/Work/Stratosphere/IRC-Research/IRC-Behavioral-Analysis/zeek/logs/42/irc_privmsg.log...\nSuccessfully monitoring /Users/preneond/Documents/Work/Stratosphere/IRC-Research/IRC-Behavioral-Analysis/zeek/logs/51/irc_privmsg.log...\nSuccessfully monitoring /Users/preneond/Documents/Work/Stratosphere/IRC-Research/IRC-Behavioral-Analysis/zeek/logs/56/irc_privmsg.log...\nSuccessfully monitoring /Users/preneond/Documents/Work/Stratosphere/IRC-Research/IRC-Behavioral-Analysis/zeek/logs/62/irc_privmsg.log...\nSuccessfully monitoring /Users/preneond/Documents/Work/Stratosphere/IRC-Research/IRC-Behavioral-Analysis/zeek/logs/irc1/irc_privmsg.log...\n"
    }
   ],
   "source": [
    "logs_privmsg_mal = [load_logs(l) for l in logs_fn_privmsg_mal]\n",
    "logs_privmsg_benign = [load_logs(l) for l in logs_fn_privmsg_benign]\n",
    "logs_privmsg = logs_privmsg_mal + logs_privmsg_benign"
   ]
  },
  {
   "cell_type": "code",
   "execution_count": 12,
   "metadata": {},
   "outputs": [],
   "source": [
    "import networkx as nx\n",
    "\n",
    "def build_graph(logs):\n",
    "    print('building graph...')\n",
    "    graph = nx.DiGraph()\n",
    "    for log in logs:\n",
    "        v1_source = log['source']\n",
    "        v2_target = log['target']\n",
    "        # v1, v2 = Node(v1_source), Node(v2_target)\n",
    "\n",
    "        graph.add_node(v1_source)\n",
    "        graph.add_node(v2_target)\n",
    "        graph.add_edge(v1_source, v2_target, id=log['msg'])\n",
    "\n",
    "    return graph\n",
    "\n",
    "# def visualize_graph(graph, tree_path):\n",
    "#     print('visualizing graph...')\n",
    "#     dot = Digraph('IRC Tree', filename=tree_path)\n",
    "#     dot.graph_attr.update(sep='+100,s100')\n",
    "\n",
    "#     edges = set()\n",
    "#     for edge in graph.edges:\n",
    "#         v1, v2 = edge.src_node, edge.dst_node\n",
    "\n",
    "#         # comment this block of code to show non-duplicate edges between nodes\n",
    "#         dot.node(v1.id(), label=v1.label())\n",
    "#         dot.node(v2.id(), label=v2.label())\n",
    "#         dot.edge(v1.id(), v2.id())\n",
    "\n",
    "#         # uncomment this block of code to show duplicate edges between nodes\n",
    "#         if (v1.id(), v2.id()) not in edges:\n",
    "#             edges.add((v1.id(), v2.id()))\n",
    "#             dot.node(v1.id(), label=v1.label())\n",
    "#             dot.node(v2.id(), label=v2.label())\n",
    "#             dot.edge(v1.id(), v2.id())\n",
    "#     dot.view()"
   ]
  },
  {
   "cell_type": "code",
   "execution_count": 17,
   "metadata": {},
   "outputs": [
    {
     "output_type": "stream",
     "name": "stdout",
     "text": "building graph...\n"
    }
   ],
   "source": [
    "import matplotlib.pyplot as plt\n",
    "# edges_benign = list(map(lambda x: (x['source'], x['target']), logs_privmsg_benign[0]))\n",
    "\n",
    "\n",
    "# logs_all = []\n",
    "# for l in logs_privmsg_mal:\n",
    "#     logs_all += l\n",
    "\n",
    "# G = build_graph(logs_all)\n",
    "G = build_graph(logs_privmsg_benign[0])\n",
    "# visualize_graph(G, 'privmsg_tree_mal')\n",
    "# pos = n\n",
    "# pos = nx.fruchterman_reingold_layout(G)\n",
    "# nx.draw(G, pos)\n",
    "# nx.draw_spectral(G)\n",
    "# nx.draw_circular(G)\n",
    "# nx.draw_kamada_kawai(G)\n",
    "\n",
    "plt.show()"
   ]
  },
  {
   "cell_type": "code",
   "execution_count": 20,
   "metadata": {},
   "outputs": [],
   "source": [
    "# channel_nodes = list(filter(lambda x: x[0] == '#', G.nodes))\n",
    "pos = nx.circular_layout(G)\n",
    "pos_x = {}\n",
    "pos_y = {}\n",
    "node_types = {}\n",
    "\n",
    "for k,v in pos.items():\n",
    "    pos_x[k] = v[0]\n",
    "    pos_y[k] = v[1]\n",
    "    node_types[k] = 'channel' if k[0] == '#' else 'user'\n",
    "\n",
    "nx.set_node_attributes(G, pos_x, 'x')\n",
    "nx.set_node_attributes(G, pos_y, 'y')\n",
    "nx.set_node_attributes(G, node_types, 'type')\n",
    "\n",
    "nx.write_graphml(G, \"graph_privmsg_circular.xml\")"
   ]
  },
  {
   "cell_type": "code",
   "execution_count": null,
   "metadata": {},
   "outputs": [],
   "source": []
  },
  {
   "cell_type": "code",
   "execution_count": null,
   "metadata": {},
   "outputs": [],
   "source": []
  }
 ],
 "metadata": {
  "kernelspec": {
   "display_name": "Python 3",
   "language": "python",
   "name": "python3"
  },
  "language_info": {
   "codemirror_mode": {
    "name": "ipython",
    "version": 3
   },
   "file_extension": ".py",
   "mimetype": "text/x-python",
   "name": "python",
   "nbconvert_exporter": "python",
   "pygments_lexer": "ipython3",
   "version": "3.7.6-final"
  }
 },
 "nbformat": 4,
 "nbformat_minor": 4
}